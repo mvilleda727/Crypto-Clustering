# Import required libraries and dependencies
import pandas as pd
import hvplot.pandas
from sklearn.cluster import KMeans
from sklearn.decomposition import PCA
from sklearn.preprocessing import StandardScaler


# Load the data into a Pandas DataFrame
df_market_data = pd.read_csv(
    "Resources/crypto_market_data.csv",
    index_col="coin_id")

# Display sample data
df_market_data.head(10)


# Generate summary statistics
df_market_data.describe()


# Plot your data to see what's in your DataFrame
df_market_data.hvplot.line(
    width=800,
    height=400,
    rot=90
)








# Use the `StandardScaler()` module from scikit-learn to normalize the data from the CSV file
market_data_scaled = StandardScaler().fit_transform(
    df_market_data[["price_change_percentage_24h","price_change_percentage_7d","price_change_percentage_14d","price_change_percentage_30d",
                    "price_change_percentage_60d","price_change_percentage_200d","price_change_percentage_1y"]])


# Create a DataFrame with the scaled data
df_market_data_scaled = pd.DataFrame(
    market_data_scaled,
    columns=["price_change_percentage_24h","price_change_percentage_7d","price_change_percentage_14d","price_change_percentage_30d",
             "price_change_percentage_60d","price_change_percentage_200d","price_change_percentage_1y"],
    index=df_market_data.index
)
# Copy the crypto names from the original DataFrame
df_market_data_scaled["coin_id"] = df_market_data.index

# Set the coin_id column as index
df_market_data_scaled = df_market_data_scaled.set_index("coin_id")

# Display the scaled DataFrame
df_market_data_scaled.head()








# Create a list with the number of k-values from 1 to 11
k_values = list(range(1, 12))


# Create an empty list to store the inertia values
inertia_values = []

# Create a for loop to compute the inertia with each possible value of k
# Inside the loop:
# 1. Create a KMeans model using the loop counter for the n_clusters
# 2. Fit the model to the data using `df_market_data_scaled`
# 3. Append the model.inertia_ to the inertia list
for k in k_values:
    model = KMeans(n_clusters=k, random_state=42)
    model.fit(df_market_data_scaled)
    inertia_values.append(model.inertia_)


# Create a dictionary with the data to plot the Elbow curve
elbow_data = {"k": k_values, "inertia": inertia_values}

# Create a DataFrame with the data to plot the Elbow curve
df_elbow = pd.DataFrame(elbow_data)


# Plot a line chart with all the inertia values computed with
# the different values of k to visually identify the optimal value for k.
df_elbow.hvplot.line(x="k", y="inertia", title="Elbow Curve", xlabel="Number of Clusters", ylabel="Inertia", width=800)











# Initialize the K-Means model using the best value for k
optimal_k = 4
model = KMeans(n_clusters=optimal_k, random_state=42)


# Fit the K-Means model using the scaled DataFrame
model.fit(df_market_data_scaled)


# Predict the clusters to group the cryptocurrencies using the scaled DataFrame
df_market_data_scaled["Cluster"] = model.predict(df_market_data_scaled.drop(columns=["Cluster"], errors="ignore"))

# Print the resulting array of cluster values.
print(df_market_data_scaled["Cluster"])


# Create a copy of the scaled DataFrame
df_market_data_predictions = df_market_data_scaled.copy()





# Ensure the DataFrame has only the original scaled features before predicting clusters (code only runs with this line)
df_market_data_predictions = df_market_data_scaled.drop(columns=["Cluster"]).copy()

# Predict the clusters and add them to the new DataFrame
df_market_data_predictions["predicted_cluster"] = model.predict(df_market_data_predictions)

# Display the DataFrame
df_market_data_predictions.head()



# Create a scatter plot using hvPlot by setting
# `x="price_change_percentage_24h"` and `y="price_change_percentage_7d"`.
# Color the graph points with the labels found using K-Means and
# add the crypto name in the `hover_cols` parameter to identify
# the cryptocurrency represented by each data point.
scatter_plot = df_market_data_scaled.hvplot.scatter(
    x="price_change_percentage_24h", y="price_change_percentage_7d", by="Cluster", hover_cols=[df_market_data.index.name]
)
scatter_plot








# Create a PCA model instance and set `n_components=3`.
pca = PCA(n_components=3)


# Use the PCA model with `fit_transform` to reduce the original scaled DataFrame
# down to three principal components.
market_pca_data = pca.fit_transform(df_market_data_scaled)

# View the scaled PCA data
market_pca_data[:5]


# Retrieve the explained variance to determine how much information
# can be attributed to each principal component.
pca.explained_variance_ratio_
sum(pca.explained_variance_ratio_)





# Create a new DataFrame with the PCA data.
df_pca = pd.DataFrame(market_pca_data, columns=["PC1", "PC2", "PC3"])

# Copy the crypto names from the original scaled DataFrame
df_pca["coin_id"] = df_market_data.index

# Set the coin_id column as index
df_pca = df_pca.set_index("coin_id")

# Display the scaled PCA DataFrame
df_pca.head()








# Create a list with the number of k-values from 1 to 11
k_values2 = list(range(1, 11))


# Create an empty list to store the inertia values
inertia2 = []

# Create a for loop to compute the inertia with each possible value of k
# Inside the loop:
# 1. Create a KMeans model using the loop counter for the n_clusters
# 2. Fit the model to the data using `df_market_data_pca`
# 3. Append the model.inertia_ to the inertia list
for k in k_values2:
    model_pca = KMeans(n_clusters=k, random_state=42)
    model_pca.fit(df_pca)
    inertia2.append(model_pca.inertia_)



# Create a dictionary with the data to plot the Elbow curve
elbow_data_pca = {"k": k_values2, "inertia": inertia2}
# Create a DataFrame with the data to plot the Elbow curve
df_elbow_pca = pd.DataFrame(elbow_data_pca)


# Plot a line chart with all the inertia values computed with
# the different values of k to visually identify the optimal value for k.
df_elbow_pca.hvplot.line(x="k", y="inertia", title="Elbow Curve for PCA Data", xlabel="Number of Clusters", ylabel="Inertia", width=800)








# Initialize the K-Means model using the best value for k
model_pca_optimal = KMeans(n_clusters=optimal_k, random_state=42)



# Fit the K-Means model using the PCA data
model_pca_optimal.fit(df_pca)


# Remove the "Cluster" column if it exists
df_pca_predict = df_pca.drop(columns=['Cluster'], errors='ignore')

# Predict the clusters on the PCA data
df_pca["Cluster"] = model_pca_optimal.predict(df_pca_predict)

# Print the resulting cluster values
print(df_pca["Cluster"].unique())


# Create a copy of the scaled PCA DataFrame
df_pca_copy = df_pca.copy()

# Remove the "Cluster" column 
df_pca_copy = df_pca_copy.drop(columns=['Cluster'], errors='ignore')

# Add a new column to the copy of the PCA DataFrame with the predicted clusters
df_pca_copy["Cluster"] = model_pca_optimal.predict(df_pca_copy)

# Display the updated copy of the scaled PCA DataFrame
print(df_pca_copy)



# Create a scatter plot using hvPlot by setting
# `x="PC1"` and `y="PC2"`.
# Color the graph points with the labels found using K-Means and
# add the crypto name in the `hover_cols` parameter to identify
# the cryptocurrency represented by each data point.
# Step 1: Create a copy of the scaled PCA DataFrame
df_pca_predict = df_pca.copy()
df_pca_predict = df_pca_predict.drop(columns=['Cluster'], errors='ignore')
df_pca_predict["predicted_cluster"] = model_pca_optimal.predict(df_pca_predict)
df_pca_predict.hvplot.scatter(
    x="PC1",
    y="PC2",
    by="predicted_cluster",  
    hover_cols="coin_id"     
)





# Composite plot to contrast the Elbow curves
df_elbow_pca.hvplot.line(x="k", y="inertia", title="Elbow Curve (Original)", xticks=k) + df_elbow_pca.hvplot.line(x="k", y="inertia", title="Elbow Curve (PCA)", xticks=k)


# Composite plot to contrast the clusters
df_pca_predict = df_pca.copy()
df_pca_predict = df_pca_predict.drop(columns=['Cluster'], errors='ignore')
df_pca_predict["predicted_cluster"] = model_pca_optimal.predict(df_pca_predict)
df_pca_predict.hvplot.scatter(
    x="PC1",
    y="PC2",
    by="predicted_cluster",  
    hover_cols="coin_id"
)






